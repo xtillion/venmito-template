{
 "cells": [
  {
   "cell_type": "code",
   "execution_count": 14,
   "id": "3f215766-92f0-4da5-8ec3-f8c11eb5fb74",
   "metadata": {},
   "outputs": [
    {
     "name": "stdout",
     "output_type": "stream",
     "text": [
      "Using database path: /Users/admin/Documents/project/Venmito--ChrisGuzman94-/src/database/venmito.db\n",
      "Database exists: True\n",
      "Absolute Path: /Users/admin/Documents/project/Venmito--ChrisGuzman94-/src/database/venmito.db\n"
     ]
    }
   ],
   "source": [
    "import os\n",
    "\n",
    "# Adjust DB path to go up one level to the project root\n",
    "DB_PATH = os.path.abspath(\"../src/database/venmito.db\")\n",
    "\n",
    "# Print to verify\n",
    "print(\"Using database path:\", DB_PATH)\n",
    "print(\"Database exists:\", os.path.exists(DB_PATH))\n",
    "\n",
    "\n"
   ]
  },
  {
   "cell_type": "code",
   "execution_count": 15,
   "id": "8e88aad7-0bad-4290-ab4a-43b53cb43cda",
   "metadata": {},
   "outputs": [],
   "source": [
    "import pandas as pd\n",
    "import sqlite3\n",
    "\n",
    "# Define helper function\n",
    "def query_db(query, params=()):\n",
    "    conn = sqlite3.connect(DB_PATH)\n",
    "    df = pd.read_sql_query(query, conn, params=params)\n",
    "    conn.close()\n",
    "    return df\n"
   ]
  },
  {
   "cell_type": "code",
   "execution_count": 18,
   "id": "55f007d2-9e92-403e-82f9-3f085fe04c93",
   "metadata": {},
   "outputs": [
    {
     "data": {
      "text/html": [
       "<div>\n",
       "<style scoped>\n",
       "    .dataframe tbody tr th:only-of-type {\n",
       "        vertical-align: middle;\n",
       "    }\n",
       "\n",
       "    .dataframe tbody tr th {\n",
       "        vertical-align: top;\n",
       "    }\n",
       "\n",
       "    .dataframe thead th {\n",
       "        text-align: right;\n",
       "    }\n",
       "</style>\n",
       "<table border=\"1\" class=\"dataframe\">\n",
       "  <thead>\n",
       "    <tr style=\"text-align: right;\">\n",
       "      <th></th>\n",
       "      <th>id</th>\n",
       "      <th>first_name</th>\n",
       "      <th>last_name</th>\n",
       "      <th>email</th>\n",
       "      <th>telephone</th>\n",
       "      <th>city</th>\n",
       "      <th>country</th>\n",
       "      <th>android</th>\n",
       "      <th>iphone</th>\n",
       "      <th>desktop</th>\n",
       "    </tr>\n",
       "  </thead>\n",
       "  <tbody>\n",
       "    <tr>\n",
       "      <th>0</th>\n",
       "      <td>1</td>\n",
       "      <td>Jamie</td>\n",
       "      <td>Bright</td>\n",
       "      <td>Jamie.Bright@example.com</td>\n",
       "      <td>533-849-3913</td>\n",
       "      <td>Montreal</td>\n",
       "      <td>Canada</td>\n",
       "      <td>1</td>\n",
       "      <td>0</td>\n",
       "      <td>0</td>\n",
       "    </tr>\n",
       "    <tr>\n",
       "      <th>1</th>\n",
       "      <td>2</td>\n",
       "      <td>Arabella</td>\n",
       "      <td>Knox</td>\n",
       "      <td>Arabella.Knox@example.com</td>\n",
       "      <td>652-272-9539</td>\n",
       "      <td>Los Angeles</td>\n",
       "      <td>USA</td>\n",
       "      <td>1</td>\n",
       "      <td>1</td>\n",
       "      <td>0</td>\n",
       "    </tr>\n",
       "    <tr>\n",
       "      <th>2</th>\n",
       "      <td>3</td>\n",
       "      <td>Yusra</td>\n",
       "      <td>Fletcher</td>\n",
       "      <td>Yusra.Fletcher@example.com</td>\n",
       "      <td>385-702-8874</td>\n",
       "      <td>Toronto</td>\n",
       "      <td>Canada</td>\n",
       "      <td>1</td>\n",
       "      <td>1</td>\n",
       "      <td>1</td>\n",
       "    </tr>\n",
       "    <tr>\n",
       "      <th>3</th>\n",
       "      <td>4</td>\n",
       "      <td>Esme</td>\n",
       "      <td>Nielsen</td>\n",
       "      <td>Esme.Nielsen@example.com</td>\n",
       "      <td>621-797-5367</td>\n",
       "      <td>Los Angeles</td>\n",
       "      <td>USA</td>\n",
       "      <td>1</td>\n",
       "      <td>1</td>\n",
       "      <td>0</td>\n",
       "    </tr>\n",
       "    <tr>\n",
       "      <th>4</th>\n",
       "      <td>5</td>\n",
       "      <td>Beatrix</td>\n",
       "      <td>Everett</td>\n",
       "      <td>Beatrix.Everett@example.com</td>\n",
       "      <td>194-640-2758</td>\n",
       "      <td>Paris, France</td>\n",
       "      <td>None</td>\n",
       "      <td>1</td>\n",
       "      <td>0</td>\n",
       "      <td>0</td>\n",
       "    </tr>\n",
       "  </tbody>\n",
       "</table>\n",
       "</div>"
      ],
      "text/plain": [
       "   id first_name last_name                        email     telephone  \\\n",
       "0   1      Jamie    Bright     Jamie.Bright@example.com  533-849-3913   \n",
       "1   2   Arabella      Knox    Arabella.Knox@example.com  652-272-9539   \n",
       "2   3      Yusra  Fletcher   Yusra.Fletcher@example.com  385-702-8874   \n",
       "3   4       Esme   Nielsen     Esme.Nielsen@example.com  621-797-5367   \n",
       "4   5    Beatrix   Everett  Beatrix.Everett@example.com  194-640-2758   \n",
       "\n",
       "            city country  android  iphone  desktop  \n",
       "0       Montreal  Canada        1       0        0  \n",
       "1    Los Angeles     USA        1       1        0  \n",
       "2        Toronto  Canada        1       1        1  \n",
       "3    Los Angeles     USA        1       1        0  \n",
       "4  Paris, France    None        1       0        0  "
      ]
     },
     "execution_count": 18,
     "metadata": {},
     "output_type": "execute_result"
    }
   ],
   "source": [
    "people_df = query_db(\"SELECT * FROM people;\")\n",
    "people_df.head()\n",
    "\n"
   ]
  },
  {
   "cell_type": "code",
   "execution_count": 35,
   "id": "a6977149-555f-4c2d-834f-494702b9bbe4",
   "metadata": {},
   "outputs": [
    {
     "data": {
      "text/html": [
       "<div>\n",
       "<style scoped>\n",
       "    .dataframe tbody tr th:only-of-type {\n",
       "        vertical-align: middle;\n",
       "    }\n",
       "\n",
       "    .dataframe tbody tr th {\n",
       "        vertical-align: top;\n",
       "    }\n",
       "\n",
       "    .dataframe thead th {\n",
       "        text-align: right;\n",
       "    }\n",
       "</style>\n",
       "<table border=\"1\" class=\"dataframe\">\n",
       "  <thead>\n",
       "    <tr style=\"text-align: right;\">\n",
       "      <th></th>\n",
       "      <th>transaction_id</th>\n",
       "      <th>phone</th>\n",
       "      <th>store</th>\n",
       "      <th>total_price</th>\n",
       "    </tr>\n",
       "  </thead>\n",
       "  <tbody>\n",
       "    <tr>\n",
       "      <th>0</th>\n",
       "      <td>1000</td>\n",
       "      <td>233-159-4158</td>\n",
       "      <td>Trader Tales</td>\n",
       "      <td>17.0</td>\n",
       "    </tr>\n",
       "    <tr>\n",
       "      <th>1</th>\n",
       "      <td>1001</td>\n",
       "      <td>725-427-2794</td>\n",
       "      <td>PetPals Mart</td>\n",
       "      <td>2.0</td>\n",
       "    </tr>\n",
       "    <tr>\n",
       "      <th>2</th>\n",
       "      <td>1002</td>\n",
       "      <td>659-190-9378</td>\n",
       "      <td>Trader Tales</td>\n",
       "      <td>16.0</td>\n",
       "    </tr>\n",
       "    <tr>\n",
       "      <th>3</th>\n",
       "      <td>1003</td>\n",
       "      <td>334-436-6254</td>\n",
       "      <td>Urban Outfitters Loft</td>\n",
       "      <td>13.0</td>\n",
       "    </tr>\n",
       "    <tr>\n",
       "      <th>4</th>\n",
       "      <td>1004</td>\n",
       "      <td>615-102-4849</td>\n",
       "      <td>PetPals Mart</td>\n",
       "      <td>13.0</td>\n",
       "    </tr>\n",
       "  </tbody>\n",
       "</table>\n",
       "</div>"
      ],
      "text/plain": [
       "   transaction_id         phone                  store  total_price\n",
       "0            1000  233-159-4158           Trader Tales         17.0\n",
       "1            1001  725-427-2794           PetPals Mart          2.0\n",
       "2            1002  659-190-9378           Trader Tales         16.0\n",
       "3            1003  334-436-6254  Urban Outfitters Loft         13.0\n",
       "4            1004  615-102-4849           PetPals Mart         13.0"
      ]
     },
     "execution_count": 35,
     "metadata": {},
     "output_type": "execute_result"
    }
   ],
   "source": [
    "transactions_df = query_db(\"SELECT * FROM transactions;\")\n",
    "transactions_df.head()\n"
   ]
  },
  {
   "cell_type": "code",
   "execution_count": 36,
   "id": "58b84eb2-6e27-4446-be8a-c91bd6f59150",
   "metadata": {},
   "outputs": [
    {
     "data": {
      "text/html": [
       "<div>\n",
       "<style scoped>\n",
       "    .dataframe tbody tr th:only-of-type {\n",
       "        vertical-align: middle;\n",
       "    }\n",
       "\n",
       "    .dataframe tbody tr th {\n",
       "        vertical-align: top;\n",
       "    }\n",
       "\n",
       "    .dataframe thead th {\n",
       "        text-align: right;\n",
       "    }\n",
       "</style>\n",
       "<table border=\"1\" class=\"dataframe\">\n",
       "  <thead>\n",
       "    <tr style=\"text-align: right;\">\n",
       "      <th></th>\n",
       "      <th>id</th>\n",
       "      <th>transaction_id</th>\n",
       "      <th>item_name</th>\n",
       "      <th>quantity</th>\n",
       "      <th>price_per_item</th>\n",
       "      <th>total_price</th>\n",
       "    </tr>\n",
       "  </thead>\n",
       "  <tbody>\n",
       "    <tr>\n",
       "      <th>0</th>\n",
       "      <td>1</td>\n",
       "      <td>1000</td>\n",
       "      <td>Krafty Cheddar</td>\n",
       "      <td>1</td>\n",
       "      <td>5.0</td>\n",
       "      <td>5.0</td>\n",
       "    </tr>\n",
       "    <tr>\n",
       "      <th>1</th>\n",
       "      <td>2</td>\n",
       "      <td>1000</td>\n",
       "      <td>Popsi</td>\n",
       "      <td>1</td>\n",
       "      <td>4.0</td>\n",
       "      <td>4.0</td>\n",
       "    </tr>\n",
       "    <tr>\n",
       "      <th>2</th>\n",
       "      <td>3</td>\n",
       "      <td>1000</td>\n",
       "      <td>Oreoz</td>\n",
       "      <td>2</td>\n",
       "      <td>4.0</td>\n",
       "      <td>8.0</td>\n",
       "    </tr>\n",
       "    <tr>\n",
       "      <th>3</th>\n",
       "      <td>4</td>\n",
       "      <td>1001</td>\n",
       "      <td>Colgatex</td>\n",
       "      <td>1</td>\n",
       "      <td>2.0</td>\n",
       "      <td>2.0</td>\n",
       "    </tr>\n",
       "    <tr>\n",
       "      <th>4</th>\n",
       "      <td>5</td>\n",
       "      <td>1002</td>\n",
       "      <td>Colgatex</td>\n",
       "      <td>1</td>\n",
       "      <td>3.0</td>\n",
       "      <td>3.0</td>\n",
       "    </tr>\n",
       "  </tbody>\n",
       "</table>\n",
       "</div>"
      ],
      "text/plain": [
       "   id  transaction_id       item_name  quantity  price_per_item  total_price\n",
       "0   1            1000  Krafty Cheddar         1             5.0          5.0\n",
       "1   2            1000           Popsi         1             4.0          4.0\n",
       "2   3            1000           Oreoz         2             4.0          8.0\n",
       "3   4            1001        Colgatex         1             2.0          2.0\n",
       "4   5            1002        Colgatex         1             3.0          3.0"
      ]
     },
     "execution_count": 36,
     "metadata": {},
     "output_type": "execute_result"
    }
   ],
   "source": [
    "items_df = query_db(\"SELECT * FROM transaction_items;\")\n",
    "items_df.head()\n"
   ]
  },
  {
   "cell_type": "code",
   "execution_count": 37,
   "id": "340ac0fb-9a0c-42be-8ad7-c21972876a26",
   "metadata": {},
   "outputs": [
    {
     "data": {
      "text/html": [
       "<div>\n",
       "<style scoped>\n",
       "    .dataframe tbody tr th:only-of-type {\n",
       "        vertical-align: middle;\n",
       "    }\n",
       "\n",
       "    .dataframe tbody tr th {\n",
       "        vertical-align: top;\n",
       "    }\n",
       "\n",
       "    .dataframe thead th {\n",
       "        text-align: right;\n",
       "    }\n",
       "</style>\n",
       "<table border=\"1\" class=\"dataframe\">\n",
       "  <thead>\n",
       "    <tr style=\"text-align: right;\">\n",
       "      <th></th>\n",
       "      <th>id</th>\n",
       "      <th>client_email</th>\n",
       "      <th>telephone</th>\n",
       "      <th>promotion</th>\n",
       "      <th>responded</th>\n",
       "    </tr>\n",
       "  </thead>\n",
       "  <tbody>\n",
       "    <tr>\n",
       "      <th>0</th>\n",
       "      <td>1</td>\n",
       "      <td></td>\n",
       "      <td>929-575-4315</td>\n",
       "      <td>Coca-Splash</td>\n",
       "      <td>Yes</td>\n",
       "    </tr>\n",
       "    <tr>\n",
       "      <th>1</th>\n",
       "      <td>2</td>\n",
       "      <td></td>\n",
       "      <td>525-796-7991</td>\n",
       "      <td>GatorBoost</td>\n",
       "      <td>Yes</td>\n",
       "    </tr>\n",
       "    <tr>\n",
       "      <th>2</th>\n",
       "      <td>3</td>\n",
       "      <td></td>\n",
       "      <td>441-847-1955</td>\n",
       "      <td>Oreoz</td>\n",
       "      <td>Yes</td>\n",
       "    </tr>\n",
       "    <tr>\n",
       "      <th>3</th>\n",
       "      <td>4</td>\n",
       "      <td>Alessandro.French@example.com</td>\n",
       "      <td>216-516-1958</td>\n",
       "      <td>Popsi</td>\n",
       "      <td>Yes</td>\n",
       "    </tr>\n",
       "    <tr>\n",
       "      <th>4</th>\n",
       "      <td>5</td>\n",
       "      <td>Isobelle.Davidson@example.com</td>\n",
       "      <td></td>\n",
       "      <td>Popsi</td>\n",
       "      <td>Yes</td>\n",
       "    </tr>\n",
       "  </tbody>\n",
       "</table>\n",
       "</div>"
      ],
      "text/plain": [
       "  id                   client_email     telephone    promotion responded\n",
       "0  1                                 929-575-4315  Coca-Splash       Yes\n",
       "1  2                                 525-796-7991   GatorBoost       Yes\n",
       "2  3                                 441-847-1955        Oreoz       Yes\n",
       "3  4  Alessandro.French@example.com  216-516-1958        Popsi       Yes\n",
       "4  5  Isobelle.Davidson@example.com                      Popsi       Yes"
      ]
     },
     "execution_count": 37,
     "metadata": {},
     "output_type": "execute_result"
    }
   ],
   "source": [
    "promotions_df = query_db(\"SELECT * FROM promotions;\")\n",
    "promotions_df.head()\n"
   ]
  },
  {
   "cell_type": "code",
   "execution_count": 39,
   "id": "a9697ce0-5aad-4c07-b0e5-4141d6708f03",
   "metadata": {},
   "outputs": [
    {
     "data": {
      "text/html": [
       "<div>\n",
       "<style scoped>\n",
       "    .dataframe tbody tr th:only-of-type {\n",
       "        vertical-align: middle;\n",
       "    }\n",
       "\n",
       "    .dataframe tbody tr th {\n",
       "        vertical-align: top;\n",
       "    }\n",
       "\n",
       "    .dataframe thead th {\n",
       "        text-align: right;\n",
       "    }\n",
       "</style>\n",
       "<table border=\"1\" class=\"dataframe\">\n",
       "  <thead>\n",
       "    <tr style=\"text-align: right;\">\n",
       "      <th></th>\n",
       "      <th>sender_id</th>\n",
       "      <th>recipient_id</th>\n",
       "      <th>amount</th>\n",
       "      <th>date</th>\n",
       "    </tr>\n",
       "  </thead>\n",
       "  <tbody>\n",
       "    <tr>\n",
       "      <th>0</th>\n",
       "      <td>926</td>\n",
       "      <td>531</td>\n",
       "      <td>70.47</td>\n",
       "      <td>2022-01-07</td>\n",
       "    </tr>\n",
       "    <tr>\n",
       "      <th>1</th>\n",
       "      <td>280</td>\n",
       "      <td>735</td>\n",
       "      <td>21.88</td>\n",
       "      <td>2022-01-10</td>\n",
       "    </tr>\n",
       "    <tr>\n",
       "      <th>2</th>\n",
       "      <td>571</td>\n",
       "      <td>737</td>\n",
       "      <td>44.68</td>\n",
       "      <td>2022-01-13</td>\n",
       "    </tr>\n",
       "    <tr>\n",
       "      <th>3</th>\n",
       "      <td>958</td>\n",
       "      <td>945</td>\n",
       "      <td>39.94</td>\n",
       "      <td>2022-01-17</td>\n",
       "    </tr>\n",
       "    <tr>\n",
       "      <th>4</th>\n",
       "      <td>373</td>\n",
       "      <td>817</td>\n",
       "      <td>6.98</td>\n",
       "      <td>2022-01-17</td>\n",
       "    </tr>\n",
       "  </tbody>\n",
       "</table>\n",
       "</div>"
      ],
      "text/plain": [
       "   sender_id  recipient_id  amount        date\n",
       "0        926           531   70.47  2022-01-07\n",
       "1        280           735   21.88  2022-01-10\n",
       "2        571           737   44.68  2022-01-13\n",
       "3        958           945   39.94  2022-01-17\n",
       "4        373           817    6.98  2022-01-17"
      ]
     },
     "execution_count": 39,
     "metadata": {},
     "output_type": "execute_result"
    }
   ],
   "source": [
    "transfers_df = query_db(\"SELECT * FROM transfers;\")\n",
    "transfers_df.head()\n"
   ]
  },
  {
   "cell_type": "code",
   "execution_count": 40,
   "id": "63ae75ff-263d-461a-bf6f-abfe8fc6c485",
   "metadata": {},
   "outputs": [
    {
     "data": {
      "text/plain": [
       "<Axes: title={'center': 'Device Type Distribution'}>"
      ]
     },
     "execution_count": 40,
     "metadata": {},
     "output_type": "execute_result"
    },
    {
     "data": {
      "image/png": "[encoded data removed]",
      "text/plain": [
       "<Figure size 700x500 with 1 Axes>"
      ]
     },
     "metadata": {},
     "output_type": "display_data"
    }
   ],
   "source": [
    "device_counts = people_df[[\"android\", \"iphone\", \"desktop\"]].sum()\n",
    "device_counts.plot(kind=\"bar\", title=\"Device Type Distribution\", figsize=(7, 5))\n"
   ]
  },
  {
   "cell_type": "code",
   "execution_count": 41,
   "id": "a58429f8-11ea-40c6-9582-3da7922f8af5",
   "metadata": {},
   "outputs": [
    {
     "data": {
      "text/plain": [
       "city\n",
       "San Francisco    206\n",
       "Los Angeles      138\n",
       "San Diego        129\n",
       "New York         125\n",
       "Chicago          106\n",
       "Name: count, dtype: int64"
      ]
     },
     "execution_count": 41,
     "metadata": {},
     "output_type": "execute_result"
    }
   ],
   "source": [
    "people_df[\"city\"].value_counts().head(5)\n"
   ]
  },
  {
   "cell_type": "code",
   "execution_count": 42,
   "id": "42015c58-985f-482b-9b32-383c97423516",
   "metadata": {},
   "outputs": [
    {
     "data": {
      "text/plain": [
       "<Axes: title={'center': 'Top 5 Best-Selling Items'}, xlabel='item_name'>"
      ]
     },
     "execution_count": 42,
     "metadata": {},
     "output_type": "execute_result"
    },
    {
     "data": {
      "image/png": "[encoded data removed]",
      "text/plain": [
       "<Figure size 700x500 with 1 Axes>"
      ]
     },
     "metadata": {},
     "output_type": "display_data"
    }
   ],
   "source": [
    "top_items = items_df.groupby(\"item_name\")[\"quantity\"].sum().reset_index()\n",
    "top_items = top_items.sort_values(\"quantity\", ascending=False).head(5)\n",
    "top_items.plot(\n",
    "    x=\"item_name\",\n",
    "    y=\"quantity\",\n",
    "    kind=\"bar\",\n",
    "    title=\"Top 5 Best-Selling Items\",\n",
    "    figsize=(7, 5)\n",
    ")\n",
    "\n"
   ]
  },
  {
   "cell_type": "code",
   "execution_count": 44,
   "id": "8b218aac-8723-4780-9cab-972a9d694736",
   "metadata": {},
   "outputs": [
    {
     "data": {
      "text/plain": [
       "<Axes: title={'center': 'Top 5 Most Profitable Stores'}, xlabel='store'>"
      ]
     },
     "execution_count": 44,
     "metadata": {},
     "output_type": "execute_result"
    },
    {
     "data": {
      "image/png": "[encoded data removed]",
      "text/plain": [
       "<Figure size 700x500 with 1 Axes>"
      ]
     },
     "metadata": {},
     "output_type": "display_data"
    }
   ],
   "source": [
    "profits = transactions_df.groupby(\"store\")[\"total_price\"].sum().reset_index()\n",
    "profits = profits.sort_values(\"total_price\", ascending=False).head(5)\n",
    "profits.plot(\n",
    "    x=\"store\",\n",
    "    y=\"total_price\",\n",
    "    kind=\"bar\",\n",
    "    title=\"Top 5 Most Profitable Stores\",\n",
    "    figsize=(7, 5)\n",
    ")\n"
   ]
  },
  {
   "cell_type": "code",
   "execution_count": 45,
   "id": "d5f0e1d3-a0e5-41ca-84c1-1daee2fa3cc5",
   "metadata": {},
   "outputs": [
    {
     "data": {
      "text/plain": [
       "<Axes: title={'center': 'Promotion Effectiveness'}, xlabel='promotion'>"
      ]
     },
     "execution_count": 45,
     "metadata": {},
     "output_type": "execute_result"
    },
    {
     "data": {
      "image/png": "[encoded data removed]",
      "text/plain": [
       "<Figure size 800x500 with 1 Axes>"
      ]
     },
     "metadata": {},
     "output_type": "display_data"
    }
   ],
   "source": [
    "promotions_df[\"responded\"].value_counts()\n",
    "promotion_success = promotions_df.groupby(\"promotion\")[\"responded\"].value_counts().unstack()\n",
    "promotion_success.plot(kind=\"bar\", stacked=True, title=\"Promotion Effectiveness\", figsize=(8, 5))\n",
    "\n"
   ]
  },
  {
   "cell_type": "code",
   "execution_count": 46,
   "id": "3783d441-e4d9-436a-86c5-6385743a3cdf",
   "metadata": {},
   "outputs": [
    {
     "data": {
      "text/html": [
       "<div>\n",
       "<style scoped>\n",
       "    .dataframe tbody tr th:only-of-type {\n",
       "        vertical-align: middle;\n",
       "    }\n",
       "\n",
       "    .dataframe tbody tr th {\n",
       "        vertical-align: top;\n",
       "    }\n",
       "\n",
       "    .dataframe thead th {\n",
       "        text-align: right;\n",
       "    }\n",
       "</style>\n",
       "<table border=\"1\" class=\"dataframe\">\n",
       "  <thead>\n",
       "    <tr style=\"text-align: right;\">\n",
       "      <th></th>\n",
       "      <th>sender_id</th>\n",
       "      <th>amount</th>\n",
       "    </tr>\n",
       "  </thead>\n",
       "  <tbody>\n",
       "    <tr>\n",
       "      <th>351</th>\n",
       "      <td>979</td>\n",
       "      <td>291.74</td>\n",
       "    </tr>\n",
       "    <tr>\n",
       "      <th>108</th>\n",
       "      <td>289</td>\n",
       "      <td>244.46</td>\n",
       "    </tr>\n",
       "    <tr>\n",
       "      <th>297</th>\n",
       "      <td>878</td>\n",
       "      <td>224.80</td>\n",
       "    </tr>\n",
       "    <tr>\n",
       "      <th>330</th>\n",
       "      <td>938</td>\n",
       "      <td>194.02</td>\n",
       "    </tr>\n",
       "    <tr>\n",
       "      <th>321</th>\n",
       "      <td>924</td>\n",
       "      <td>192.26</td>\n",
       "    </tr>\n",
       "  </tbody>\n",
       "</table>\n",
       "</div>"
      ],
      "text/plain": [
       "     sender_id  amount\n",
       "351        979  291.74\n",
       "108        289  244.46\n",
       "297        878  224.80\n",
       "330        938  194.02\n",
       "321        924  192.26"
      ]
     },
     "execution_count": 46,
     "metadata": {},
     "output_type": "execute_result"
    }
   ],
   "source": [
    "transfers_summary = transfers_df.groupby(\"sender_id\")[\"amount\"].sum().reset_index()\n",
    "transfers_summary.sort_values(\"amount\", ascending=False).head(5)\n"
   ]
  },
  {
   "cell_type": "code",
   "execution_count": null,
   "id": "d96b4295-62c8-45e0-a47f-46f1066e578e",
   "metadata": {},
   "outputs": [],
   "source": []
  }
 ],
 "metadata": {
  "kernelspec": {
   "display_name": "Python 3 (ipykernel)",
   "language": "python",
   "name": "python3"
  },
  "language_info": {
   "codemirror_mode": {
    "name": "ipython",
    "version": 3
   },
   "file_extension": ".py",
   "mimetype": "text/x-python",
   "name": "python",
   "nbconvert_exporter": "python",
   "pygments_lexer": "ipython3",
   "version": "3.10.10"
  }
 },
 "nbformat": 4,
 "nbformat_minor": 5
}
